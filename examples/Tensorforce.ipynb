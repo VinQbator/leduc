{
 "cells": [
  {
   "cell_type": "code",
   "execution_count": 1,
   "metadata": {},
   "outputs": [],
   "source": [
    "import numpy as np"
   ]
  },
  {
   "cell_type": "code",
   "execution_count": 2,
   "metadata": {},
   "outputs": [],
   "source": [
    "from tensorforce.agents import PPOAgent\n",
    "from tensorforce.execution import Runner, MultiRunner\n",
    "from tensorforce.environments import OpenAIGym"
   ]
  },
  {
   "cell_type": "code",
   "execution_count": 3,
   "metadata": {},
   "outputs": [],
   "source": [
    "from leduc import LeducEnv\n",
    "from leduc.util import get_safe_action"
   ]
  },
  {
   "cell_type": "code",
   "execution_count": 4,
   "metadata": {},
   "outputs": [],
   "source": [
    "# Create an OpenAIgym environment\n",
    "environment = OpenAIGym('Leduc-v0')"
   ]
  },
  {
   "cell_type": "code",
   "execution_count": null,
   "metadata": {},
   "outputs": [],
   "source": [
    "# Create the agent\n",
    "agent1 = PPOAgent(\n",
    "    states=environment.states(), actions=environment.actions(),\n",
    "    # Automatically configured network\n",
    "    network='auto',\n",
    "    # Memory sampling most recent experiences, with a capacity of 2500 timesteps\n",
    "    # (6100 > [30 batch episodes] * [200 max timesteps per episode])\n",
    "    memory=6100,\n",
    "    # Update every 10 episodes, with a batch of 30 episodes\n",
    "    update_mode=dict(unit='episodes', batch_size=30, frequency=10),\n",
    "    # PPO optimizer\n",
    "    step_optimizer=dict(type='adam', learning_rate=1e-3),\n",
    "    # PPO multi-step optimization: 10 updates, each based on a third of the batch\n",
    "    subsampling_fraction=0.33, optimization_steps=10,\n",
    "    # MLP baseline\n",
    "    baseline_mode='states', baseline=dict(type='network', network='auto'),\n",
    "    # Baseline optimizer\n",
    "    baseline_optimizer=dict(\n",
    "        type='multi_step', optimizer=dict(type='adam', learning_rate=1e-4), num_steps=5\n",
    "    ),\n",
    "    # Other parameters\n",
    "    discount=0.99, entropy_regularization=1e-2, gae_lambda=None, likelihood_ratio_clipping=0.2\n",
    ")"
   ]
  },
  {
   "cell_type": "code",
   "execution_count": null,
   "metadata": {},
   "outputs": [],
   "source": [
    "# Create the agent\n",
    "agent2 = PPOAgent(\n",
    "    states=environment.states(), actions=environment.actions(),\n",
    "    # Automatically configured network\n",
    "    network='auto',\n",
    "    # Memory sampling most recent experiences, with a capacity of 2500 timesteps\n",
    "    # (6100 > [30 batch episodes] * [200 max timesteps per episode])\n",
    "    memory=6100,\n",
    "    # Update every 10 episodes, with a batch of 30 episodes\n",
    "    update_mode=dict(unit='episodes', batch_size=30, frequency=10),\n",
    "    # PPO optimizer\n",
    "    step_optimizer=dict(type='adam', learning_rate=1e-3),\n",
    "    # PPO multi-step optimization: 10 updates, each based on a third of the batch\n",
    "    subsampling_fraction=0.33, optimization_steps=10,\n",
    "    # MLP baseline\n",
    "    baseline_mode='states', baseline=dict(type='network', network='auto'),\n",
    "    # Baseline optimizer\n",
    "    baseline_optimizer=dict(\n",
    "        type='multi_step', optimizer=dict(type='adam', learning_rate=1e-4), num_steps=5\n",
    "    ),\n",
    "    # Other parameters\n",
    "    discount=0.99, entropy_regularization=1e-2, gae_lambda=None, likelihood_ratio_clipping=0.2\n",
    ")"
   ]
  },
  {
   "cell_type": "code",
   "execution_count": null,
   "metadata": {},
   "outputs": [
    {
     "name": "stdout",
     "output_type": "stream",
     "text": [
      "WARNING:tensorflow:From /home/ingvar/.local/lib/python3.6/site-packages/tensorflow/python/ops/resource_variable_ops.py:435: colocate_with (from tensorflow.python.framework.ops) is deprecated and will be removed in a future version.\n",
      "Instructions for updating:\n",
      "Colocations handled automatically by placer.\n",
      "WARNING:tensorflow:From /home/ingvar/.local/lib/python3.6/site-packages/tensorflow/python/ops/math_ops.py:3066: to_int32 (from tensorflow.python.ops.math_ops) is deprecated and will be removed in a future version.\n",
      "Instructions for updating:\n",
      "Use tf.cast instead.\n"
     ]
    }
   ],
   "source": [
    "# Create the runner\n",
    "runner = MultiRunner(agents=[agent1, agent2], environment=environment)"
   ]
  },
  {
   "cell_type": "code",
   "execution_count": null,
   "metadata": {},
   "outputs": [],
   "source": [
    "# Callback function printing episode statistics\n",
    "def episode_finished(r):\n",
    "    if r.episode % 100 != 0:\n",
    "        return True\n",
    "    print(\"Finished episode {ep} after {ts} timesteps (reward: {reward})\".format(\n",
    "        ep=r.episode, ts=r.episode_timestep, reward=r.episode_rewards[-1]))\n",
    "    return True"
   ]
  },
  {
   "cell_type": "code",
   "execution_count": null,
   "metadata": {},
   "outputs": [],
   "source": [
    "# Start learning\n",
    "runner.run(num_episodes=500, max_episode_timesteps=200)\n",
    "runner.close()"
   ]
  },
  {
   "cell_type": "code",
   "execution_count": null,
   "metadata": {},
   "outputs": [],
   "source": [
    "# Print statistics\n",
    "print(\"Learning finished. Total episodes: {ep}. Average reward of last 100 episodes: {ar}.\".format(\n",
    "    ep=runner.episode,\n",
    "    ar=np.mean(runner.episode_rewards))\n",
    ")"
   ]
  },
  {
   "cell_type": "code",
   "execution_count": null,
   "metadata": {},
   "outputs": [],
   "source": []
  }
 ],
 "metadata": {
  "kernelspec": {
   "display_name": "Python 3",
   "language": "python",
   "name": "python3"
  },
  "language_info": {
   "codemirror_mode": {
    "name": "ipython",
    "version": 3
   },
   "file_extension": ".py",
   "mimetype": "text/x-python",
   "name": "python",
   "nbconvert_exporter": "python",
   "pygments_lexer": "ipython3",
   "version": "3.6.7"
  }
 },
 "nbformat": 4,
 "nbformat_minor": 2
}
